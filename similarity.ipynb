{
 "cells": [
  {
   "cell_type": "code",
   "execution_count": 37,
   "metadata": {},
   "outputs": [
    {
     "name": "stdout",
     "output_type": "stream",
     "text": [
      "722\n",
      "722\n",
      "722\n",
      "722\n",
      "722\n",
      "722\n",
      "722\n",
      "722\n",
      "721\n",
      "722\n",
      "721\n",
      "721\n",
      "721\n",
      "721\n",
      "721\n",
      "721\n",
      "721\n",
      "721\n",
      "721\n",
      "721\n"
     ]
    }
   ],
   "source": [
    "import os\n",
    "#import ipdb\n",
    "\n",
    "import pandas as pd\n",
    "import matplotlib as mpl\n",
    "from matplotlib import lines\n",
    "from matplotlib import pyplot as plt\n",
    "import matplotlib.dates as mdates\n",
    "import seaborn as sns\n",
    "\n",
    "#EXP_NAME = \"tolerance/15\"\n",
    "headers = ['time', 'gateway', 'latency']\n",
    "\n",
    "#Read input files from the directory and returns DataTable object in a combined list\n",
    "def read_clients(EXP_NAME):\n",
    "    #Get list of nodes(files) with results\n",
    "    INPUT_DIR = os.path.join( os.getcwd(), EXP_NAME)\n",
    "    data = {}\n",
    "    dirs = [f for f in os.listdir(INPUT_DIR) if os.path.isdir(os.path.join(INPUT_DIR))]    \n",
    "    for client in dirs:\n",
    "        client_data = pd.read_csv(os.path.join(INPUT_DIR, client), sep=',')\n",
    "        client_data.columns= headers\n",
    "        client_data = client_data.set_index(pd.DatetimeIndex(client_data['time']))\n",
    "        data[client] = client_data.resample('2Min')['gateway','latency']\n",
    "        print(len(data[client]))\n",
    "    return data\n",
    "\n",
    "data = read_clients(\"gateways\")\n"
   ]
  },
  {
   "cell_type": "code",
   "execution_count": 137,
   "metadata": {},
   "outputs": [
    {
     "name": "stdout",
     "output_type": "stream",
     "text": [
      "5.060359484660606e-11\n",
      "[0.413443, 1.622377, 0.15, 0.026644, 0.015897, 0.026188999999999997, 0.23705, 0.044846, 1.172433, 0.01759, 1.30684, 0.158252]\n"
     ]
    }
   ],
   "source": [
    "from math import*\n",
    "from functools import reduce\n",
    "\n",
    "def square_rooted(x):\n",
    "\n",
    "    return round(sqrt(sum([a*a for a in x])),3)\n",
    "\n",
    "\n",
    "def cosine_similarity(elements):\n",
    "    numerator = 0\n",
    "    i = 0 \n",
    "    \n",
    "    while i<len(elements):\n",
    "        #numerator += sum(elements[i])\n",
    "    print(elements[i])\n",
    "    #    i+=1\n",
    "    \n",
    "    #numerator = sum(a*b for a,b in zip(elements))\n",
    "    \n",
    "    #denominator = square_rooted(x)*square_rooted(y)\n",
    "    #return round(numerator/float(denominator),3)\n",
    "\n",
    "elements = data.keys()\n",
    "size = len(data[list(elements)[0]])\n",
    "i=0\n",
    "new_df = pd.DataFrame()\n",
    "while(i<1):\n",
    "    \n",
    "    for element in elements:\n",
    "        client = data[element]\n",
    "        row = list(client)[i][1]\n",
    "        row = row.drop(columns=['time'])\n",
    "        row = row.set_index('gateway')\n",
    "        new_df = pd.concat([new_df,row.transpose()],axis=0)\n",
    "    arr = []\n",
    "    for index, vector in new_df.iterrows():\n",
    "        arr.append(list(vector))\n",
    "    cosine_similarity(arr)\n",
    "    i +=1\n",
    "        "
   ]
  },
  {
   "cell_type": "code",
   "execution_count": 79,
   "metadata": {
    "collapsed": true
   },
   "outputs": [],
   "source": [
    "import numpy as np\n",
    "from sklearn.metrics.pairwise import cosine_similarity"
   ]
  },
  {
   "cell_type": "code",
   "execution_count": null,
   "metadata": {
    "collapsed": true
   },
   "outputs": [],
   "source": []
  }
 ],
 "metadata": {
  "kernelspec": {
   "display_name": "Python 3",
   "language": "python",
   "name": "python3"
  },
  "language_info": {
   "codemirror_mode": {
    "name": "ipython",
    "version": 3
   },
   "file_extension": ".py",
   "mimetype": "text/x-python",
   "name": "python",
   "nbconvert_exporter": "python",
   "pygments_lexer": "ipython3",
   "version": "3.6.0"
  }
 },
 "nbformat": 4,
 "nbformat_minor": 2
}
