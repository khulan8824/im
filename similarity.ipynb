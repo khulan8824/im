{
 "cells": [
  {
   "cell_type": "code",
   "execution_count": 277,
   "metadata": {},
   "outputs": [],
   "source": [
    "import os\n",
    "#import ipdb\n",
    "\n",
    "import pandas as pd\n",
    "import matplotlib as mpl\n",
    "from matplotlib import lines\n",
    "from matplotlib import pyplot as plt\n",
    "import matplotlib.dates as mdates\n",
    "import seaborn as sns\n",
    "\n",
    "#EXP_NAME = \"tolerance/15\"\n",
    "headers = ['time', 'gateway', 'latency']\n",
    "\n",
    "#Read input files from the directory and returns DataTable object in a combined list\n",
    "def read_clients(EXP_NAME):\n",
    "    #Get list of nodes(files) with results\n",
    "    INPUT_DIR = os.path.join( os.getcwd(), EXP_NAME)\n",
    "    data = {}\n",
    "    dirs = [f for f in os.listdir(INPUT_DIR) if os.path.isdir(os.path.join(INPUT_DIR))]    \n",
    "    for client in dirs:\n",
    "        client_data = pd.read_csv(os.path.join(INPUT_DIR, client), sep=',')\n",
    "        client_data.columns= headers\n",
    "        client_data = client_data.set_index(pd.DatetimeIndex(client_data['time']))\n",
    "        data[client] = client_data.resample('2Min')['gateway','latency']\n",
    "    return data\n",
    "\n",
    "data = read_clients(\"gateways\")\n"
   ]
  },
  {
   "cell_type": "code",
   "execution_count": 301,
   "metadata": {},
   "outputs": [
    {
     "name": "stdout",
     "output_type": "stream",
     "text": [
      "                 latency\n",
      "gateway                 \n",
      "10.138.120.66   0.017590\n",
      "10.138.25.67    0.026189\n",
      "10.138.57.2     0.237050\n",
      "10.138.85.130   1.172433\n",
      "10.139.17.4     0.044846\n",
      "10.139.37.194   0.413443\n",
      "10.139.40.122   0.015897\n",
      "10.139.40.85    0.026644\n",
      "10.139.7.4      0.150000\n",
      "10.140.93.35    1.306840\n",
      "10.228.192.210  1.622377\n",
      "10.228.193.210  0.158252\n",
      "                 latency\n",
      "gateway                 \n",
      "10.138.120.66   0.022150\n",
      "10.138.25.67    0.021837\n",
      "10.138.57.2     0.020689\n",
      "10.138.85.130   0.545714\n",
      "10.139.17.4     0.039767\n",
      "10.139.37.194   0.166062\n",
      "10.139.39.98    0.150000\n",
      "10.139.40.122   0.008125\n",
      "10.139.40.85    0.014580\n",
      "10.139.7.4      0.150000\n",
      "10.140.93.35    1.266290\n",
      "10.228.192.210  1.527256\n",
      "10.228.193.210  0.159506\n",
      "10.228.204.9    0.150000\n",
      "0.629\n"
     ]
    }
   ],
   "source": [
    "from math import*\n",
    "from functools import reduce\n",
    "\n",
    "def square_rooted(x):\n",
    "    y = [a*a for a in x]\n",
    "    return sqrt(sum(y))\n",
    "\n",
    " \n",
    "def cosine_similarity(x,y):\n",
    "    numerator = sum(a*b for a,b in zip(x,y))\n",
    "    denominator = square_rooted(x)*square_rooted(y)\n",
    "    return round(numerator/float(denominator),3)\n",
    "\n",
    "\n",
    "\n",
    "elements = data.keys()\n",
    "size = len(data[list(elements)[0]])\n",
    "i=0\n",
    "j=0\n",
    "test1 = {}\n",
    "keys = {}\n",
    "while(i<1):    \n",
    "    new_df = pd.DataFrame()\n",
    "    compared = None\n",
    "    for element in elements:\n",
    "        \n",
    "        clients = data[element]\n",
    "        if compared is None and i==0:\n",
    "            date = list(clients)[i][0]\n",
    "            compared = list(clients)[i][1]\n",
    "            compared = compared.drop(columns=['time'])\n",
    "            compared = compared.set_index('gateway')\n",
    "            compared = compared.sort_index()\n",
    "            keys = (list(compared.index))\n",
    "            test1 = list(compared.latency)\n",
    "            print(compared)\n",
    "            i+=1\n",
    "            continue\n",
    "        i+=1    \n",
    "        row = list(client)[i][1]\n",
    "        n = [x for x in keys ]\n",
    "        #row = list(client)[i][1]\n",
    "        #time = list(client)[i][1]['time']\n",
    "        row = row.drop(columns=['time'])\n",
    "        row = row.set_index('gateway')\n",
    "        row = row.sort_index()\n",
    "        test2 = list(row.latency)\n",
    "        print(row)\n",
    "        print(cosine_similarity(test1,test2))\n",
    "        break\n",
    "        \n",
    "    i +=1\n",
    "        "
   ]
  },
  {
   "cell_type": "code",
   "execution_count": 194,
   "metadata": {
    "collapsed": true
   },
   "outputs": [],
   "source": [
    "import numpy as np\n",
    "from sklearn.metrics.pairwise import cosine_similarity"
   ]
  },
  {
   "cell_type": "code",
   "execution_count": 243,
   "metadata": {},
   "outputs": [
    {
     "data": {
      "text/plain": [
       "2.278499725696714"
      ]
     },
     "execution_count": 243,
     "metadata": {},
     "output_type": "execute_result"
    }
   ],
   "source": [
    "sqrt(sum([0.413443, 1.622377, 0.15, 0.026644, 0.015897, 0.026188999999999997, 0.23705, 0.044846, 1.172433, 0.01759, 1.30684, 0.158252]))\n"
   ]
  },
  {
   "cell_type": "code",
   "execution_count": 226,
   "metadata": {},
   "outputs": [
    {
     "data": {
      "text/plain": [
       "0.08969405438944303"
      ]
     },
     "execution_count": 226,
     "metadata": {},
     "output_type": "execute_result"
    }
   ],
   "source": [
    "0.413443*0.481451*0.293689*0.730902*0.349959*0.327623*0.523683*0.288677*3.147*0.404254*3.202903*0.48940500000000003*3.183074*3.0509939999999998*3.180304*3.1812110000000002*3.184278*3.084047*0.236722*0.265885"
   ]
  },
  {
   "cell_type": "code",
   "execution_count": 230,
   "metadata": {},
   "outputs": [
    {
     "data": {
      "text/plain": [
       "2020.7043050620925"
      ]
     },
     "execution_count": 230,
     "metadata": {},
     "output_type": "execute_result"
    }
   ],
   "source": [
    "1.622377*1.542054*1.006691*1.1953639999999999*1.665847*1.362846*1.471098*1.028861*1.805843*1.30807*1.6765279999999998*1.153605*1.580136*1.653943*1.656755*1.720216*1.807195*1.713512*1.199762*1.545085"
   ]
  },
  {
   "cell_type": "code",
   "execution_count": null,
   "metadata": {
    "collapsed": true
   },
   "outputs": [],
   "source": []
  }
 ],
 "metadata": {
  "kernelspec": {
   "display_name": "Python 3",
   "language": "python",
   "name": "python3"
  },
  "language_info": {
   "codemirror_mode": {
    "name": "ipython",
    "version": 3
   },
   "file_extension": ".py",
   "mimetype": "text/x-python",
   "name": "python",
   "nbconvert_exporter": "python",
   "pygments_lexer": "ipython3",
   "version": "3.6.0"
  }
 },
 "nbformat": 4,
 "nbformat_minor": 2
}
